{
 "cells": [
  {
   "cell_type": "code",
   "execution_count": 1,
   "id": "58b7d551-e4d5-46fb-99aa-3e60b20e881e",
   "metadata": {},
   "outputs": [
    {
     "name": "stdout",
     "output_type": "stream",
     "text": [
      "Twinkle, twinkle, little star,\n",
      "\tHow I wonder what you are!\n",
      "\t\tUp above the world so high,\n",
      "\t\tLike a diamond in the sky.\n",
      "Twinkle, twinkle, little star,\n",
      "\tHow I wonder what you are\n"
     ]
    }
   ],
   "source": [
    "print (\"Twinkle, twinkle, little star,\")\n",
    "print (\"\\tHow I wonder what you are!\")\n",
    "print (\"\\t\\tUp above the world so high,\")\n",
    "print (\"\\t\\tLike a diamond in the sky.\")\n",
    "print (\"Twinkle, twinkle, little star,\")\n",
    "print (\"\\tHow I wonder what you are\")"
   ]
  },
  {
   "cell_type": "code",
   "execution_count": 2,
   "id": "d07ef7b7-adef-40cc-8c2f-96b5ad5a3c52",
   "metadata": {},
   "outputs": [
    {
     "name": "stdout",
     "output_type": "stream",
     "text": [
      "The python version i am using is: 3.12.4 | packaged by Anaconda, Inc. | (main, Jun 18 2024, 15:03:56) [MSC v.1929 64 bit (AMD64)]\n"
     ]
    }
   ],
   "source": [
    "import sys\n",
    "\n",
    "python_version = (sys.version)\n",
    "print (\"The python version i am using is:\", python_version)"
   ]
  },
  {
   "cell_type": "code",
   "execution_count": 3,
   "id": "b4b8d8f2-7a72-44fa-9653-9fd9a80a8b21",
   "metadata": {},
   "outputs": [
    {
     "name": "stdout",
     "output_type": "stream",
     "text": [
      "Current date and time: 2024-08-01 11:04:33.235906\n"
     ]
    }
   ],
   "source": [
    "from datetime import datetime\n",
    "\n",
    "current_datetime = datetime.now()\n",
    "print (\"Current date and time:\", current_datetime)"
   ]
  },
  {
   "cell_type": "code",
   "execution_count": 1,
   "id": "b7b4aae9-4f3e-4189-ae14-6aec306ce627",
   "metadata": {},
   "outputs": [
    {
     "name": "stdin",
     "output_type": "stream",
     "text": [
      "Enter the radius of the circle: 1.1\n"
     ]
    },
    {
     "name": "stdout",
     "output_type": "stream",
     "text": [
      "The area of the circle with radius 1.1 is: 3.8013271108436504\n"
     ]
    }
   ],
   "source": [
    "import math\n",
    "\n",
    "radius = float(input(\"Enter the radius of the circle:\"))\n",
    "area = math.pi * (radius ** 2)\n",
    "print (\"The area of the circle with radius\", radius, \"is:\", area)"
   ]
  },
  {
   "cell_type": "code",
   "execution_count": 7,
   "id": "582c333a-061b-455c-8806-088593c6bd64",
   "metadata": {},
   "outputs": [
    {
     "name": "stdin",
     "output_type": "stream",
     "text": [
      "Enter your first name:  Haris\n",
      "Enter your last name:  Afzal\n"
     ]
    },
    {
     "name": "stdout",
     "output_type": "stream",
     "text": [
      "Afzal Haris\n"
     ]
    }
   ],
   "source": [
    "first_name = input(\"Enter your first name: \")\n",
    "last_name = input(\"Enter your last name: \")\n",
    "print(last_name, first_name)\n"
   ]
  },
  {
   "cell_type": "code",
   "execution_count": 11,
   "id": "7659da62-85c1-42d9-a8e4-bfa5cefef450",
   "metadata": {},
   "outputs": [
    {
     "name": "stdin",
     "output_type": "stream",
     "text": [
      "Enter the first number:  5\n",
      "Enter the second number:  4\n"
     ]
    },
    {
     "name": "stdout",
     "output_type": "stream",
     "text": [
      "The sum of the two numbers is:  9\n"
     ]
    }
   ],
   "source": [
    "num1 = input(\"Enter the first number: \")\n",
    "num2 = input(\"Enter the second number: \")\n",
    "\n",
    "num1 = int(num1)\n",
    "num2 = int(num2)\n",
    "\n",
    "result = num1 + num2\n",
    "\n",
    "print(\"The sum of the two numbers is: \", result)"
   ]
  },
  {
   "cell_type": "code",
   "execution_count": 13,
   "id": "c7a62792-cc4b-424e-94c1-a0333a6201fa",
   "metadata": {},
   "outputs": [
    {
     "name": "stdin",
     "output_type": "stream",
     "text": [
      "Enter the marks for Maths:  100\n",
      "Enter the marks for Science:  90\n",
      "Enter the marks for English:  80\n",
      "Enter the marks for History:  95\n",
      "Enter the marks for Geography:  85\n"
     ]
    },
    {
     "name": "stdout",
     "output_type": "stream",
     "text": [
      "\n",
      "Mark Sheet\n",
      "----------\n",
      "Maths: 100.0\n",
      "Science: 90.0\n",
      "English: 80.0\n",
      "History: 95.0\n",
      "Geography: 85.0\n",
      "\n",
      "Total Marks: 450.0\n",
      "percentage: 90.00%\n",
      "Grade: A\n"
     ]
    }
   ],
   "source": [
    "def calculate_grade(percentage):\n",
    "    if percentage >=90:\n",
    "        return 'A'\n",
    "    elif percentage >=80:\n",
    "        return 'B'\n",
    "    elif percentage >=70:\n",
    "        return 'C'\n",
    "    elif percentage >=60:\n",
    "        return 'D'\n",
    "    else:\n",
    "        return 'F'\n",
    "\n",
    "subjects = [\"Maths\", \"Science\", \"English\", \"History\", \"Geography\",]\n",
    "marks = []\n",
    "\n",
    "for subject in subjects:\n",
    "    mark = float(input(f\"Enter the marks for {subject}: \"))\n",
    "    marks.append(mark)\n",
    "\n",
    "total_marks = sum(marks)\n",
    "percentage = total_marks / len(subjects)\n",
    "grade = calculate_grade(percentage)\n",
    "\n",
    "print(\"\\nMark Sheet\")\n",
    "print(\"----------\")\n",
    "for i in range(len(subjects)):\n",
    "    print(f\"{subjects[i]}: {marks[i]}\")\n",
    "\n",
    "print(f\"\\nTotal Marks: {total_marks}\")\n",
    "print(f\"percentage: {percentage:.2f}%\")\n",
    "print(f\"Grade: {grade}\")"
   ]
  },
  {
   "cell_type": "code",
   "execution_count": 15,
   "id": "0b65a348-2dac-493a-8167-8221ea24ab69",
   "metadata": {},
   "outputs": [
    {
     "name": "stdin",
     "output_type": "stream",
     "text": [
      "Enter a number:  3\n"
     ]
    },
    {
     "name": "stdout",
     "output_type": "stream",
     "text": [
      "The number 3 is odd.\n"
     ]
    }
   ],
   "source": [
    "number = int(input(\"Enter a number: \"))\n",
    "\n",
    "if number % 2 == 0:\n",
    "    print(f\"The number {number} is even.\")\n",
    "\n",
    "else:\n",
    "    print(f\"The number {number} is odd.\")"
   ]
  },
  {
   "cell_type": "code",
   "execution_count": 21,
   "id": "08087b9a-80b7-4ccd-a9bb-8125aafa6868",
   "metadata": {},
   "outputs": [
    {
     "name": "stdout",
     "output_type": "stream",
     "text": [
      "The length of the list is: 6\n"
     ]
    }
   ],
   "source": [
    "my_list = [1,2,3,4,5,6]\n",
    "\n",
    "list_length = len(my_list)\n",
    "\n",
    "print(\"The length of the list is:\", list_length)"
   ]
  },
  {
   "cell_type": "code",
   "execution_count": 23,
   "id": "ed7df000-bc93-4596-8270-1340efed58f0",
   "metadata": {},
   "outputs": [
    {
     "name": "stdout",
     "output_type": "stream",
     "text": [
      "The sum of all numeric items in the list is: 21\n"
     ]
    }
   ],
   "source": [
    "my_list = [1,2,3,4,5,6]\n",
    "\n",
    "total_sum = sum(my_list)\n",
    "\n",
    "print(\"The sum of all numeric items in the list is:\", total_sum)"
   ]
  },
  {
   "cell_type": "code",
   "execution_count": 29,
   "id": "0cee716a-b0a3-4d1c-a8e0-f4d213875496",
   "metadata": {},
   "outputs": [
    {
     "name": "stdout",
     "output_type": "stream",
     "text": [
      "The largest number in the list is: 6\n"
     ]
    }
   ],
   "source": [
    "my_list = [1,2,3,4,5,6]\n",
    "\n",
    "largest_number = max(my_list)\n",
    "\n",
    "print(\"The largest number in the list is:\", largest_number)"
   ]
  },
  {
   "cell_type": "code",
   "execution_count": 31,
   "id": "0175abcf-b2c8-4963-a58c-545221066684",
   "metadata": {},
   "outputs": [
    {
     "name": "stdout",
     "output_type": "stream",
     "text": [
      "Elements in the list that are less than 5:\n",
      "1\n",
      "2.5\n",
      "3\n",
      "4.75\n",
      "0\n",
      "3.9\n"
     ]
    }
   ],
   "source": [
    "my_list = [1, 2.5, 3, 4.75, 5, 6, 7.1, 0, 3.9]\n",
    "\n",
    "print(\"Elements in the list that are less than 5:\")\n",
    "\n",
    "for item in my_list:\n",
    "    if item < 5:\n",
    "        print(item)"
   ]
  },
  {
   "cell_type": "code",
   "execution_count": null,
   "id": "c202d720-05a5-437d-bf5b-0aa055f8dac6",
   "metadata": {},
   "outputs": [],
   "source": []
  }
 ],
 "metadata": {
  "kernelspec": {
   "display_name": "Python 3 (ipykernel)",
   "language": "python",
   "name": "python3"
  },
  "language_info": {
   "codemirror_mode": {
    "name": "ipython",
    "version": 3
   },
   "file_extension": ".py",
   "mimetype": "text/x-python",
   "name": "python",
   "nbconvert_exporter": "python",
   "pygments_lexer": "ipython3",
   "version": "3.12.4"
  }
 },
 "nbformat": 4,
 "nbformat_minor": 5
}
